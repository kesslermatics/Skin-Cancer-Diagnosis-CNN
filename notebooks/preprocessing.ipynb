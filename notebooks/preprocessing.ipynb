{
 "cells": [
  {
   "cell_type": "code",
   "execution_count": null,
   "id": "cf512600",
   "metadata": {},
   "outputs": [
    {
     "name": "stderr",
     "output_type": "stream",
     "text": [
      "/mnt/d/Forschung/Skin-Cancer-Diagnosis-CNN/venv/lib/python3.12/site-packages/tqdm/auto.py:21: TqdmWarning: IProgress not found. Please update jupyter and ipywidgets. See https://ipywidgets.readthedocs.io/en/stable/user_install.html\n",
      "  from .autonotebook import tqdm as notebook_tqdm\n"
     ]
    },
    {
     "name": "stdout",
     "output_type": "stream",
     "text": [
      "Initial number of rows: 10015\n",
      "Samples with valid images: 10015\n",
      "✅ Preprocessing complete. Data saved to ../outputs/data/ham10000_preprocessed.csv\n"
     ]
    }
   ],
   "source": [
    "import os\n",
    "import pandas as pd\n",
    "\n",
    "# Base path to dataset (adjust if needed)\n",
    "import kagglehub\n",
    "path = kagglehub.dataset_download(\"kmader/skin-cancer-mnist-ham10000\")\n",
    "\n",
    "# Load metadata\n",
    "df = pd.read_csv(os.path.join(path, \"HAM10000_metadata.csv\"))\n",
    "print(f\"Initial number of rows: {len(df)}\")\n",
    "\n",
    "# Map dx codes to full labels (optional)\n",
    "dx_map = {\n",
    "    'nv': 'Melanocytic nevi',\n",
    "    'mel': 'Melanoma',\n",
    "    'bkl': 'Benign keratosis',\n",
    "    'bcc': 'Basal cell carcinoma',\n",
    "    'akiec': 'Actinic keratoses',\n",
    "    'vasc': 'Vascular lesions',\n",
    "    'df': 'Dermatofibroma'\n",
    "}\n",
    "df[\"dx_full\"] = df[\"dx\"].map(dx_map)\n",
    "\n",
    "# Function to resolve correct image path\n",
    "def find_image_path(image_id, base_path):\n",
    "    for subfolder in [\"HAM10000_images_part_1\", \"HAM10000_images_part_2\"]:\n",
    "        candidate = os.path.join(base_path, subfolder, f\"{image_id}.jpg\")\n",
    "        if os.path.exists(candidate):\n",
    "            return candidate\n",
    "    return None  # If image not found\n",
    "\n",
    "# Apply function to all image_ids\n",
    "df[\"file_path\"] = df[\"image_id\"].apply(lambda x: find_image_path(x, path))\n",
    "\n",
    "# Drop rows without image file\n",
    "df = df.dropna(subset=[\"file_path\"])\n",
    "print(f\"Samples with valid images: {len(df)}\")\n",
    "\n",
    "# Save preprocessed DataFrame (optional)\n",
    "os.makedirs(\"../outputs/data\", exist_ok=True)\n",
    "df.to_csv(\"../outputs/data/ham10000_preprocessed.csv\", index=False)\n",
    "\n",
    "print(\"Preprocessing complete. Data saved to ../outputs/data/ham10000_preprocessed.csv\")\n"
   ]
  },
  {
   "cell_type": "code",
   "execution_count": null,
   "id": "9f8d8613",
   "metadata": {},
   "outputs": [],
   "source": []
  }
 ],
 "metadata": {
  "kernelspec": {
   "display_name": "venv",
   "language": "python",
   "name": "python3"
  },
  "language_info": {
   "codemirror_mode": {
    "name": "ipython",
    "version": 3
   },
   "file_extension": ".py",
   "mimetype": "text/x-python",
   "name": "python",
   "nbconvert_exporter": "python",
   "pygments_lexer": "ipython3",
   "version": "3.12.3"
  }
 },
 "nbformat": 4,
 "nbformat_minor": 5
}
